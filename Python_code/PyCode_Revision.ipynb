{
 "cells": [
  {
   "cell_type": "markdown",
   "id": "372d813c",
   "metadata": {},
   "source": [
    "### Revision code on: list, string, tuple, numpy and pandas "
   ]
  },
  {
   "cell_type": "code",
   "execution_count": 2,
   "id": "9f9f7c44",
   "metadata": {},
   "outputs": [],
   "source": [
    "## Swap first and last number in list:\n",
    "\n",
    "## def funcion:\n",
    "\n",
    "def swap(x):\n",
    "    ## how big:\n",
    "    size = len(x)\n",
    "    ## swap here, \n",
    "    temp = x[0]      ## save so not lost\n",
    "    x[0] = x[size-1] ## overwrite first\n",
    "    x[size-1] = temp ## overwrite last\n",
    "    \n",
    "    return x"
   ]
  },
  {
   "cell_type": "code",
   "execution_count": 3,
   "id": "3a1720a8",
   "metadata": {},
   "outputs": [
    {
     "name": "stdout",
     "output_type": "stream",
     "text": [
      "[67, 23, 34, 45, 56, 12]\n"
     ]
    }
   ],
   "source": [
    "## test:\n",
    "\n",
    "x = [12,23,34,45,56,67]\n",
    "print(swap(x))"
   ]
  },
  {
   "cell_type": "code",
   "execution_count": null,
   "id": "ab804899",
   "metadata": {},
   "outputs": [],
   "source": []
  },
  {
   "cell_type": "code",
   "execution_count": 6,
   "id": "cb6cb5ba",
   "metadata": {},
   "outputs": [],
   "source": [
    "# Given a list in Python and provided the positions of the elements, write a program to swap the \n",
    "# two elements in the list. \n",
    "\n",
    "def swap2(x,y,w): ## positions: x, y, length/vector: w\n",
    "    temp = w[x]\n",
    "    w[x]=w[y]\n",
    "    w[y]=temp\n",
    "    return w\n",
    "\n"
   ]
  },
  {
   "cell_type": "code",
   "execution_count": 9,
   "id": "08dd35f5",
   "metadata": {},
   "outputs": [
    {
     "name": "stdout",
     "output_type": "stream",
     "text": [
      "[3, 2, 1, 4, 5, 6, 7, 8, 9]\n"
     ]
    }
   ],
   "source": [
    "w = [1,2,3,4,5,6,7,8,9]\n",
    "print(swap2(0,2,w))"
   ]
  },
  {
   "cell_type": "code",
   "execution_count": 10,
   "id": "060b89e3",
   "metadata": {},
   "outputs": [],
   "source": [
    "# How To Find the Length of a List\n",
    "\n",
    "def count(lis):\n",
    "    x = len(lis)\n",
    "    \n",
    "    return  x"
   ]
  },
  {
   "cell_type": "code",
   "execution_count": 12,
   "id": "c19f4976",
   "metadata": {},
   "outputs": [
    {
     "name": "stdout",
     "output_type": "stream",
     "text": [
      "10\n"
     ]
    },
    {
     "data": {
      "text/plain": [
       "10"
      ]
     },
     "execution_count": 12,
     "metadata": {},
     "output_type": "execute_result"
    }
   ],
   "source": [
    "lis = [1,2,3,4,5,6,7,8,9,10]\n",
    "print(count(lis))\n",
    "\n",
    "len(lis)"
   ]
  },
  {
   "cell_type": "code",
   "execution_count": 21,
   "id": "0d362620",
   "metadata": {},
   "outputs": [],
   "source": [
    "# Find Maximum of two numbers\n",
    "\n",
    "def maxi(a,b):\n",
    "    if a>=b:\n",
    "        return a\n",
    "    else:\n",
    "        return b\n",
    "    "
   ]
  },
  {
   "cell_type": "code",
   "execution_count": 22,
   "id": "f7b9d327",
   "metadata": {},
   "outputs": [
    {
     "name": "stdout",
     "output_type": "stream",
     "text": [
      "10\n"
     ]
    }
   ],
   "source": [
    "a=10\n",
    "b=5\n",
    "\n",
    "print(maxi(a,b))"
   ]
  },
  {
   "cell_type": "code",
   "execution_count": 24,
   "id": "0aa0fefa",
   "metadata": {},
   "outputs": [],
   "source": [
    "# Find Minimum of two numbers\n",
    "\n",
    "def mini(c,d):\n",
    "    if c<=d:\n",
    "        return c\n",
    "    else: \n",
    "        return d\n"
   ]
  },
  {
   "cell_type": "code",
   "execution_count": 25,
   "id": "6709c2fe",
   "metadata": {},
   "outputs": [
    {
     "name": "stdout",
     "output_type": "stream",
     "text": [
      "2\n"
     ]
    }
   ],
   "source": [
    "print(mini(2,5))"
   ]
  },
  {
   "cell_type": "code",
   "execution_count": null,
   "id": "8444b83b",
   "metadata": {},
   "outputs": [],
   "source": []
  },
  {
   "cell_type": "code",
   "execution_count": 47,
   "id": "6bb08933",
   "metadata": {},
   "outputs": [
    {
     "name": "stdout",
     "output_type": "stream",
     "text": [
      "The string is symmetrical and a palindrome.\n"
     ]
    }
   ],
   "source": [
    "# Python program to check whether the string is Symmetrical or Palindrome\n",
    "\n",
    "## pseudo code:\n",
    "\n",
    "# find length\n",
    "# divide in half (iff odd remove middle)\n",
    "# take the two parts and have two checks\n",
    "# check1: is sym?: check each entry is same eg [abc] [abc] -> yes\n",
    "# check2: is palin?: check entry backwards: [abc] [cba] -> yes\n",
    "# else is neither\n",
    "\n",
    "\n",
    "# def sorting(s):  ## s is string\n",
    "#     size = len(s)\n",
    "\n",
    "#     ## For odd\n",
    "    \n",
    "#     if size % 2 != 0: ## check modulo 2\n",
    "#         half = (size-1)/2\n",
    "#         ## select the halves:\n",
    "#         first = s[0:half]\n",
    "#         second = s[half+1:end]\n",
    "        \n",
    "#         for i in 0 : len(first)\n",
    "#         if first[i] == second[i+len(first)]:\n",
    "#                 return ('Is symmetric')\n",
    "#         if first[i] == second[:len(first)-i]:\n",
    "#                 return ('Is palindrome')\n",
    "        \n",
    "#         ## For even:\n",
    "#     elseif size % 2 = 0:\n",
    "#         half = size/2\n",
    "#         ## select the halves:\n",
    "#         first = s[0:half]\n",
    "#         second = s[half+1:end]\n",
    "        \n",
    "#         for i in 0 : len(first)\n",
    "#             if first[i] == second[i+len(first)]:\n",
    "#                 return ('Is symmetric')\n",
    "#             if first[i] == second[:len(first)-i]:\n",
    "#                 retun ('Is palindrome')        \n",
    "        \n",
    "    \n",
    "def is_symmetrical_and_palindrome(string):\n",
    "\n",
    "\n",
    "  # Check if the string is symmetrical.\n",
    "       if string != string[::-1]:\n",
    "           return False\n",
    "\n",
    "       # Check if the string is a palindrome.\n",
    "       for i in range(len(string) // 2):\n",
    "            if string[i] != string[len(string) - i - 1]:\n",
    "                return False\n",
    "\n",
    "            return True\n",
    "\n",
    "\n",
    "# Example usage:\n",
    "\n",
    "string = \"oioio\"\n",
    "\n",
    "if is_symmetrical_and_palindrome(string):\n",
    "    print(\"The string is symmetrical and a palindrome.\")\n",
    "else:\n",
    "    print(\"The string is not symmetrical and a palindrome.\")\n",
    "        \n",
    "        \n",
    "    \n",
    "    \n",
    "    \n"
   ]
  },
  {
   "cell_type": "code",
   "execution_count": null,
   "id": "fc6d6520",
   "metadata": {},
   "outputs": [],
   "source": []
  },
  {
   "cell_type": "code",
   "execution_count": 50,
   "id": "6a4bb6d6",
   "metadata": {},
   "outputs": [
    {
     "name": "stdout",
     "output_type": "stream",
     "text": [
      "ruof eerht owt eno\n"
     ]
    }
   ],
   "source": [
    "## Reverse words in given string:\n",
    "\n",
    "string = \"one two three four\"\n",
    "\n",
    "## def function:\n",
    "\n",
    "def rev_string(string):\n",
    "    ## def empty string:\n",
    "    reversed_string = \"\"\n",
    "    \n",
    "    ## loop(backwards)\n",
    "    for i in range(len(string)-1, -1, -1 ):\n",
    "        ## overwrite empty string\n",
    "        reversed_string += string[i]\n",
    "    return reversed_string\n",
    "\n",
    "reversed_string = rev_string(string)\n",
    "\n",
    "print(reversed_string)\n"
   ]
  },
  {
   "cell_type": "code",
   "execution_count": 55,
   "id": "0e97c946",
   "metadata": {},
   "outputs": [
    {
     "name": "stdout",
     "output_type": "stream",
     "text": [
      "four three two one\n"
     ]
    }
   ],
   "source": [
    "## if want in diff order (rev order):\n",
    "\n",
    "string = \"one two three four\"\n",
    "\n",
    "## split list into chucks of sep words:\n",
    "words = string.split()\n",
    "\n",
    "## reverse order now\n",
    "words.reverse() ## in vector, convert now\n",
    "\n",
    "rev_string = \" \".join(words) ## ensure \" \" contains a space!\n",
    "\n",
    "print(rev_string)"
   ]
  },
  {
   "cell_type": "code",
   "execution_count": 71,
   "id": "3c0e3e1d",
   "metadata": {},
   "outputs": [
    {
     "name": "stdout",
     "output_type": "stream",
     "text": [
      "olh\n"
     ]
    }
   ],
   "source": [
    "wordy = 'hello'\n",
    "new_wordy = wordy[::-2]\n",
    "print(new_wordy)"
   ]
  },
  {
   "cell_type": "code",
   "execution_count": 77,
   "id": "83bb94ed",
   "metadata": {},
   "outputs": [
    {
     "name": "stdout",
     "output_type": "stream",
     "text": [
      "bdcbcd123123\n",
      "bdcabcd123123\n",
      "abdcabcd123\n"
     ]
    }
   ],
   "source": [
    "## How to Remove Letters From a String (ith letter eg)\n",
    "\n",
    "string = 'abdcabcd123123'\n",
    "\n",
    "## remove the a's (replace by nothing: '')\n",
    "new_str = string.replace('a', '')\n",
    "print(new_str)\n",
    "\n",
    "## what if only first a?\n",
    "\n",
    "new_str2 = string.replace('a', '', 1) ## first occurence\n",
    "print(new_str2)\n",
    "\n",
    "## what about chucks of values?\n",
    "\n",
    "new_str3 = string.replace('123', '', 1)\n",
    "print(new_str3)"
   ]
  },
  {
   "cell_type": "code",
   "execution_count": 87,
   "id": "6a3d7177",
   "metadata": {},
   "outputs": [
    {
     "name": "stdout",
     "output_type": "stream",
     "text": [
      "8\n",
      "8\n"
     ]
    }
   ],
   "source": [
    "## Find length of a string in python\n",
    "\n",
    "newer_str = 'abcdefgh' # 8 values long\n",
    "print(len(newer_str))\n",
    "\n",
    "## or from scratch:\n",
    "\n",
    "def findlen(newer_str):\n",
    "    counter = 0\n",
    "    \n",
    "    for i in newer_str:\n",
    "        counter += 1\n",
    "    return counter\n",
    "    \n",
    "print(findlen(newer_str))\n"
   ]
  },
  {
   "cell_type": "code",
   "execution_count": 95,
   "id": "f1c120ae",
   "metadata": {},
   "outputs": [
    {
     "name": "stdout",
     "output_type": "stream",
     "text": [
      "9\n"
     ]
    }
   ],
   "source": [
    "s = 'erqerfqwf'\n",
    "\n",
    "def count(s):\n",
    "    counter = 0\n",
    "    \n",
    "    for i in s:\n",
    "        counter += 1\n",
    "    return counter    \n",
    "\n",
    "print(count(s))"
   ]
  },
  {
   "cell_type": "code",
   "execution_count": 116,
   "id": "cbb7ba8e",
   "metadata": {},
   "outputs": [
    {
     "name": "stdout",
     "output_type": "stream",
     "text": [
      "['on', 'tw', 'th', 'oner', 'twoo', 'threee']\n"
     ]
    }
   ],
   "source": [
    "## program to print even length words in a string\n",
    "\n",
    "name = 'one two three on tw th oner twoo threee'\n",
    "# newname = name.split()\n",
    "# print(newname)\n",
    "\n",
    "def evener(name):\n",
    "    newname = name.split()\n",
    "    newer_name = []\n",
    "\n",
    "    for word in newname:\n",
    "          if len(word) % 2 == 0:\n",
    "                newer_name.append(word)  ## append just add the word (of even lenght here)\n",
    "\n",
    "    return newer_name\n",
    "\n",
    "\n",
    "# Example usage:\n",
    "print(evener(name))\n"
   ]
  },
  {
   "cell_type": "code",
   "execution_count": 119,
   "id": "33aba89a",
   "metadata": {},
   "outputs": [
    {
     "name": "stdout",
     "output_type": "stream",
     "text": [
      "56\n"
     ]
    }
   ],
   "source": [
    "# Find the size of a Tuple (a collection of objects kinda like a list)\n",
    "\n",
    "## example tuples: \n",
    "Tuple1 = (\"A\", 1, \"B\", 2, \"C\", 3)\n",
    "Tuple2 = (\"Geek1\", \"Raju\", \"Geek2\", \"Nikhil\", \"Geek3\", \"Deepanshu\")\n",
    "Tuple3 = ((1, \"Lion\"), ( 2, \"Tiger\"), (3, \"Fox\"), (4, \"Wolf\"))\n",
    " \n",
    "## (size in therms of memory:)\n",
    "size = Tuple3.__sizeof__()\n",
    "print(size)"
   ]
  },
  {
   "cell_type": "code",
   "execution_count": 122,
   "id": "2c1a0373",
   "metadata": {},
   "outputs": [
    {
     "data": {
      "text/plain": [
       "([0, 1, 2, 3], [6, 24, 43, 543454])"
      ]
     },
     "execution_count": 122,
     "metadata": {},
     "output_type": "execute_result"
    }
   ],
   "source": [
    "## Maximum and Minimum K elements in Tuple\n",
    "## k largest/smallesr values, eg (max of) (1,2,3,4,5,6,7,8) k=2-> 7,8\n",
    "\n",
    "def find_maxmin_k(tuple, k):\n",
    "    # sort it (ascending)\n",
    "    sorted_tuple = sorted(tuple)\n",
    "    \n",
    "    ## find min/max k elements:\n",
    "    \n",
    "    min_k =sorted_tuple[:k] #(position 0 to k)\n",
    "    max_k =sorted_tuple[-k:] #(kirst k elements from end)\n",
    "    \n",
    "    return (min_k, max_k)\n",
    "\n",
    "tuple = (1,2,3,4,5,3,4,5,43,5,6,5,3,24,543454,0)\n",
    "k=4\n",
    "find_maxmin_k(tuple, k)"
   ]
  },
  {
   "cell_type": "code",
   "execution_count": 127,
   "id": "f07407f3",
   "metadata": {},
   "outputs": [
    {
     "name": "stdout",
     "output_type": "stream",
     "text": [
      "55\n",
      "55\n"
     ]
    }
   ],
   "source": [
    "## sum of tuple elements\n",
    "tuple2 = (1,2,3,4,5,6,7,8,9,10)\n",
    "tuple3 = (1,[2,3,4,5,6],[7,8],[9,10])\n",
    "\n",
    "sumtuple = sum(tuple2)\n",
    "print(sumtuple)\n",
    "\n",
    "## initialize:\n",
    "sum=0\n",
    "\n",
    "for i in tuple3:\n",
    "    if type(i) == list:\n",
    "        for j in i:  ## (eg if [2,3,4,5,6], i is 5)\n",
    "            sum+= j \n",
    "    else:\n",
    "        sum+=i\n",
    "print(sum)        \n",
    "        \n",
    "\n"
   ]
  },
  {
   "cell_type": "code",
   "execution_count": 148,
   "id": "1b3dd3cd",
   "metadata": {},
   "outputs": [
    {
     "name": "stdout",
     "output_type": "stream",
     "text": [
      "[[0 0 0 0]\n",
      " [0 0 0 0]\n",
      " [0 0 0 0]]\n",
      "[[4.45057637e-308 1.78021527e-306 8.45549797e-307 1.37962049e-306]\n",
      " [1.11260619e-306 1.78010255e-306 9.79054228e-307 4.45057637e-308]\n",
      " [8.45596650e-307 9.34602321e-307 4.94065646e-322 1.90979621e-312]]\n",
      "[[5 5 5]\n",
      " [5 5 5]\n",
      " [5 5 5]]\n",
      "[[9.9 9.9 9.9]\n",
      " [9.9 9.9 9.9]\n",
      " [9.9 9.9 9.9]]\n"
     ]
    }
   ],
   "source": [
    "## create an empty and a full NumPy array\n",
    "import numpy as np\n",
    "\n",
    "empty = np.empty((3,4), dtype = int) ## integer values\n",
    "print(empty) ## basically really small values (3x4 matrix) if not type = int:\n",
    "\n",
    "empty2 = np.empty((3,4), dtype = float) ## integer values\n",
    "print(empty2) ## basically really small values (3x4 matrix) \n",
    "\n",
    "fullarray = np.full((3,3), 5, dtype = int) ## 3x3 full of fives\n",
    "print(fullarray)\n",
    "\n",
    "fullarray2 = np.full((3,3), 9.9, dtype = float) ## 3x3 full of fives\n",
    "print(fullarray2)"
   ]
  },
  {
   "cell_type": "code",
   "execution_count": 152,
   "id": "a6147f03",
   "metadata": {},
   "outputs": [
    {
     "name": "stdout",
     "output_type": "stream",
     "text": [
      "[0 0 0]\n",
      "[1 1 1]\n"
     ]
    }
   ],
   "source": [
    "# Numpy array filled with all zeros\n",
    "\n",
    "z = np.zeros(3, dtype = int)\n",
    "print(z)\n",
    "\n",
    "a = np.ones(3, dtype = int)\n",
    "print(a)"
   ]
  },
  {
   "cell_type": "code",
   "execution_count": 157,
   "id": "10f15878",
   "metadata": {},
   "outputs": [
    {
     "name": "stdout",
     "output_type": "stream",
     "text": [
      "[ 1  1  1  7  1  5  1 35  1  1  8]\n",
      "[[     75      66      78       1     453       1     325       1 2342342\n",
      "      434       1]\n",
      " [     75      66      78       1     453       1     325       1 2342342\n",
      "      434       1]]\n"
     ]
    }
   ],
   "source": [
    "## Replace NumPy array elements that doesn’t satisfy the given condition\n",
    "\n",
    "n_array = np.array([75,66.7756765456765434,78,7,453,5,325,35,2342342,434,8], dtype = int)\n",
    "## Replace values greater than 50. with 1\n",
    "n_array[n_array>50.] = 1\n",
    "print(n_array)\n",
    "\n",
    "\n",
    "n_array2 = np.array([[75,66.7756765456765434,78,7,453,5,325,35,2342342,434,8],\n",
    "                    [75,66.7756765456765434,78,7,453,5,325,35,2342342,434,8]], dtype = int)\n",
    "## Replace values greater than 50. with 1\n",
    "n_array2[n_array2<50.] = 1\n",
    "print(n_array2)"
   ]
  },
  {
   "cell_type": "code",
   "execution_count": 161,
   "id": "057f48bb",
   "metadata": {},
   "outputs": [
    {
     "data": {
      "text/plain": [
       "array([[nan, nan, nan],\n",
       "       [ 1., nan, nan]])"
      ]
     },
     "execution_count": 161,
     "metadata": {},
     "output_type": "execute_result"
    }
   ],
   "source": [
    "n_array3 = np.array([[45, 52, 10],\n",
    "                  [1, 5, 25]])\n",
    "np.where(n_array3>=5, np.nan, n_array3)\n",
    "\n",
    "## Replaced all values where the value is = or greater than 5 with NaN"
   ]
  },
  {
   "cell_type": "code",
   "execution_count": 170,
   "id": "8f649fdf",
   "metadata": {},
   "outputs": [
    {
     "name": "stdout",
     "output_type": "stream",
     "text": [
      "[[1]\n",
      " [2]\n",
      " [3]\n",
      " [4]]\n",
      "[[1 2 3 4]\n",
      " [1 2 3 4]\n",
      " [1 2 3 4]]\n",
      "4 1\n"
     ]
    }
   ],
   "source": [
    "## Maximum value from matrix:\n",
    "\n",
    "M = np.matrix('[1;2;3;4]') # column\n",
    "N = np.matrix('[1,2,3,4;1,2,3,4;1,2,3,4]')\n",
    "print(M)\n",
    "print(N)\n",
    "Max = M.max()\n",
    "Min = M.min()\n",
    "\n",
    "print(Max, Min)"
   ]
  },
  {
   "cell_type": "code",
   "execution_count": 173,
   "id": "dea6f284",
   "metadata": {},
   "outputs": [
    {
     "name": "stdout",
     "output_type": "stream",
     "text": [
      "  Tag ID  Number\n",
      "0   a  f      15\n",
      "1   b  g      43\n",
      "2   c  h     678\n",
      "3   d  i      34\n"
     ]
    }
   ],
   "source": [
    "## Make a Pandas DataFrame with two-dimensional list\n",
    "\n",
    "import pandas as pd\n",
    "\n",
    "lst =[['a','f',15],['b','g',43],['c','h',678],['d','i',34]]\n",
    "\n",
    "dataframe= pd.DataFrame(lst, columns = ['Tag', 'ID','Number'])\n",
    "print(dataframe)\n"
   ]
  },
  {
   "cell_type": "code",
   "execution_count": 183,
   "id": "61b5817e",
   "metadata": {},
   "outputs": [
    {
     "name": "stdout",
     "output_type": "stream",
     "text": [
      "     name  age\n",
      "0  Sujeet   10\n",
      "1  Sameer   11\n",
      "2   Sumit   12\n",
      "Sujeet 10\n",
      "Sameer 11\n",
      "Sumit 12\n"
     ]
    }
   ],
   "source": [
    "## iterating over rows:\n",
    "\n",
    "# list of dicts\n",
    "input_df = [{'name':'Sujeet', 'age':10},\n",
    "            {'name':'Sameer', 'age':11},\n",
    "            {'name':'Sumit', 'age':12}]\n",
    "\n",
    "df = pd.DataFrame(input_df)\n",
    "print(df)\n",
    "\n",
    "for index, row in df.iterrows(): \n",
    "    print(row['name'], row['age'])"
   ]
  },
  {
   "cell_type": "code",
   "execution_count": 188,
   "id": "23bd7306",
   "metadata": {},
   "outputs": [
    {
     "name": "stdout",
     "output_type": "stream",
     "text": [
      "  Voter_name  Voter_age     Voter\n",
      "0      Geek1       15.0        No\n",
      "1      Geek2       23.0       Yes\n",
      "2      Geek3       25.0       Yes\n",
      "3      Geek4        9.0        No\n",
      "4      Geek5       67.0       Yes\n",
      "5      Geek6       54.0       Yes\n",
      "6      Geek7       42.0       Yes\n",
      "7      Geek8        NaN  Not Sure\n"
     ]
    }
   ],
   "source": [
    "## Create a pandas column using for loop\n",
    "\n",
    "raw_Data = {'Voter_name': ['Geek1', 'Geek2', 'Geek3', 'Geek4', \n",
    "                           'Geek5', 'Geek6', 'Geek7', 'Geek8'], \n",
    "            'Voter_age': [15, 23, 25, 9, 67, 54, 42, np.NaN]}\n",
    "  \n",
    "df = pd.DataFrame(raw_Data, columns = ['Voter_name', 'Voter_age'])\n",
    "\n",
    "## which are eligible to vote?\n",
    "# create list and ammend :\n",
    "eligible = []\n",
    "\n",
    "for age in df['Voter_age']:\n",
    "    if age>=18:\n",
    "        eligible.append('Yes')\n",
    "    elif age < 18:\n",
    "        eligible.append('No')\n",
    "    else:\n",
    "        eligible.append('Not Sure')\n",
    "\n",
    "# Create new column with voter eligibility:\n",
    "\n",
    "df['Voter'] = eligible\n",
    "\n",
    "print(df)\n",
    "\n"
   ]
  },
  {
   "cell_type": "code",
   "execution_count": 193,
   "id": "9c57f617",
   "metadata": {},
   "outputs": [
    {
     "name": "stdout",
     "output_type": "stream",
     "text": [
      "0    a\n",
      "1    b\n",
      "2    c\n",
      "3    d\n",
      "4    e\n",
      "dtype: object\n",
      "1000    a\n",
      "1001    b\n",
      "1002    c\n",
      "1003    d\n",
      "1004    e\n",
      "dtype: object\n"
     ]
    }
   ],
   "source": [
    "## Create a Pandas Series from array (1D labelled array)\n",
    "\n",
    "data = np.array(['a','b','c','d','e'])\n",
    "\n",
    "## create the series:\n",
    "s = pd.Series(data)\n",
    "print(s)\n",
    "\n",
    "s = pd.Series(data, index =[1000, 1001, 1002, 1003, 1004])\n",
    "print(s)\n",
    "\n",
    "\n",
    "\n"
   ]
  },
  {
   "cell_type": "code",
   "execution_count": 206,
   "id": "1c0a85fb",
   "metadata": {},
   "outputs": [
    {
     "name": "stdout",
     "output_type": "stream",
     "text": [
      "<class 'pandas._libs.tslibs.timestamps.Timestamp'>\n",
      "                 date  data\n",
      "0 2019-01-01 00:00:00    20\n",
      "1 2019-01-01 00:01:00    93\n",
      "2 2019-01-01 00:02:00    93\n",
      "3 2019-01-01 00:03:00    67\n",
      "4 2019-01-01 00:04:00    28\n",
      "5 2019-01-01 00:05:00    18\n",
      "6 2019-01-01 00:06:00    64\n",
      "7 2019-01-01 00:07:00    34\n",
      "8 2019-01-01 00:08:00    63\n",
      "9 2019-01-01 00:09:00    38\n"
     ]
    }
   ],
   "source": [
    "## Basic of Time Series Manipulation\n",
    "import pandas as pd\n",
    "from datetime import datetime\n",
    "import numpy as np\n",
    " \n",
    "# create time series    \n",
    "range_date = pd.date_range(start ='1/1/2019', end ='1/08/2019',\n",
    "                                                   freq ='Min')\n",
    "print(type(range_date[110])) ## value 110 data type timestamp\n",
    "\n",
    "# convert to dataframe\n",
    "df = pd.DataFrame(range_date, columns =['date'])\n",
    "# add new column\n",
    "df['data'] = np.random.randint(0, 100, size =(len(range_date))) ## adds random data btween 0 and 100\n",
    " \n",
    "print(df.head(10))"
   ]
  },
  {
   "cell_type": "code",
   "execution_count": 207,
   "id": "e09a8ad5",
   "metadata": {},
   "outputs": [
    {
     "name": "stdout",
     "output_type": "stream",
     "text": [
      "['2019-01-01 00:01:00', '2019-01-01 00:02:00', '2019-01-01 00:03:00', '2019-01-01 00:04:00', '2019-01-01 00:05:00', '2019-01-01 00:06:00', '2019-01-01 00:07:00', '2019-01-01 00:08:00', '2019-01-01 00:09:00', '2019-01-01 00:10:00']\n"
     ]
    }
   ],
   "source": [
    "## Convert to string the first 10 time stamps\n",
    "\n",
    "string_data = [str(x) for x in range_date]\n",
    "print(string_data[1:11])"
   ]
  },
  {
   "cell_type": "code",
   "execution_count": 208,
   "id": "271e3e65",
   "metadata": {},
   "outputs": [
    {
     "name": "stdout",
     "output_type": "stream",
     "text": [
      "                     data\n",
      "datetime                 \n",
      "2019-01-05 00:01:00    88\n",
      "2019-01-05 00:02:00    40\n",
      "2019-01-05 00:03:00    18\n",
      "2019-01-05 00:04:00    70\n",
      "2019-01-05 00:05:00    59\n",
      "2019-01-05 00:06:00    68\n",
      "2019-01-05 00:07:00     9\n",
      "2019-01-05 00:08:00    90\n",
      "2019-01-05 00:09:00    15\n",
      "2019-01-05 00:10:00    36\n"
     ]
    },
    {
     "name": "stderr",
     "output_type": "stream",
     "text": [
      "C:\\Users\\Julia\\AppData\\Local\\Temp\\ipykernel_29940\\2535476333.py:8: FutureWarning: Indexing a DataFrame with a datetimelike index using a single string to slice the rows, like `frame[string]`, is deprecated and will be removed in a future version. Use `frame.loc[string]` instead.\n",
      "  print(df['2019-01-05'][1:11])\n"
     ]
    }
   ],
   "source": [
    "## data column converted to datetime\n",
    "df['datetime'] = pd.to_datetime(df['date'])\n",
    "# sets index (instead of 0,1,2,3,... its now the time):\n",
    "# index is a unique identifier for each row in the DataFrame\n",
    "\n",
    "df = df.set_index('datetime')\n",
    "# drops date column\n",
    "df.drop(['date'], axis = 1, inplace = True)\n",
    " \n",
    "print(df['2019-01-05'][1:11])"
   ]
  },
  {
   "cell_type": "code",
   "execution_count": null,
   "id": "487ab993",
   "metadata": {},
   "outputs": [],
   "source": []
  }
 ],
 "metadata": {
  "kernelspec": {
   "display_name": "Python 3 (ipykernel)",
   "language": "python",
   "name": "python3"
  },
  "language_info": {
   "codemirror_mode": {
    "name": "ipython",
    "version": 3
   },
   "file_extension": ".py",
   "mimetype": "text/x-python",
   "name": "python",
   "nbconvert_exporter": "python",
   "pygments_lexer": "ipython3",
   "version": "3.11.1"
  }
 },
 "nbformat": 4,
 "nbformat_minor": 5
}
